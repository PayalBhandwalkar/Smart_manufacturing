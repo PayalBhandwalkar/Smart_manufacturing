{
 "cells": [
  {
   "cell_type": "code",
   "execution_count": null,
   "id": "9906dbc0-c713-4b66-b0fa-169237cc85b0",
   "metadata": {},
   "outputs": [],
   "source": [
    "!pip install matplotlib"
   ]
  },
  {
   "cell_type": "code",
   "execution_count": null,
   "id": "89ba2473-f68a-4544-8e63-e3f45567fef3",
   "metadata": {},
   "outputs": [],
   "source": [
    "!conda install matplotlib"
   ]
  },
  {
   "cell_type": "code",
   "execution_count": null,
   "id": "eb7359ec-bfc7-4781-8e9f-8aa8e1d421d9",
   "metadata": {},
   "outputs": [],
   "source": [
    "y"
   ]
  },
  {
   "cell_type": "code",
   "execution_count": 1,
   "id": "549f22eb-5154-4da5-9320-5a60fb4bcca4",
   "metadata": {},
   "outputs": [],
   "source": [
    "import pandas as pd\n",
    "from sklearn.model_selection import train_test_split\n",
    "from sklearn.preprocessing import StandardScaler, OneHotEncoder\n",
    "from sklearn.compose import ColumnTransformer\n",
    "from sklearn.ensemble import RandomForestClassifier\n",
    "from sklearn.metrics import classification_report, accuracy_score\n",
    "import matplotlib.pyplot as plt  "
   ]
  },
  {
   "cell_type": "code",
   "execution_count": 2,
   "id": "3f9bc8a8-6a4f-42fa-a207-40121f597f09",
   "metadata": {},
   "outputs": [],
   "source": [
    "# Import for visualization# 1. Load the data\n",
    "df = pd.read_csv('/Users/payalbhandwalkar/Desktop/Projects/predictive_maintenance.csv')"
   ]
  },
  {
   "cell_type": "code",
   "execution_count": 24,
   "id": "b63476eb-96c6-4e73-b353-7d7a398e0e76",
   "metadata": {},
   "outputs": [
    {
     "data": {
      "text/html": [
       "<div>\n",
       "<style scoped>\n",
       "    .dataframe tbody tr th:only-of-type {\n",
       "        vertical-align: middle;\n",
       "    }\n",
       "\n",
       "    .dataframe tbody tr th {\n",
       "        vertical-align: top;\n",
       "    }\n",
       "\n",
       "    .dataframe thead th {\n",
       "        text-align: right;\n",
       "    }\n",
       "</style>\n",
       "<table border=\"1\" class=\"dataframe\">\n",
       "  <thead>\n",
       "    <tr style=\"text-align: right;\">\n",
       "      <th></th>\n",
       "      <th>UDI</th>\n",
       "      <th>Product ID</th>\n",
       "      <th>Type</th>\n",
       "      <th>Air temperature [K]</th>\n",
       "      <th>Process temperature [K]</th>\n",
       "      <th>Rotational speed [rpm]</th>\n",
       "      <th>Torque [Nm]</th>\n",
       "      <th>Tool wear [min]</th>\n",
       "      <th>Target</th>\n",
       "      <th>Failure Type</th>\n",
       "    </tr>\n",
       "  </thead>\n",
       "  <tbody>\n",
       "    <tr>\n",
       "      <th>0</th>\n",
       "      <td>1</td>\n",
       "      <td>M14860</td>\n",
       "      <td>M</td>\n",
       "      <td>298.1</td>\n",
       "      <td>308.6</td>\n",
       "      <td>1551</td>\n",
       "      <td>42.8</td>\n",
       "      <td>0</td>\n",
       "      <td>0</td>\n",
       "      <td>No Failure</td>\n",
       "    </tr>\n",
       "    <tr>\n",
       "      <th>1</th>\n",
       "      <td>2</td>\n",
       "      <td>L47181</td>\n",
       "      <td>L</td>\n",
       "      <td>298.2</td>\n",
       "      <td>308.7</td>\n",
       "      <td>1408</td>\n",
       "      <td>46.3</td>\n",
       "      <td>3</td>\n",
       "      <td>0</td>\n",
       "      <td>No Failure</td>\n",
       "    </tr>\n",
       "    <tr>\n",
       "      <th>2</th>\n",
       "      <td>3</td>\n",
       "      <td>L47182</td>\n",
       "      <td>L</td>\n",
       "      <td>298.1</td>\n",
       "      <td>308.5</td>\n",
       "      <td>1498</td>\n",
       "      <td>49.4</td>\n",
       "      <td>5</td>\n",
       "      <td>0</td>\n",
       "      <td>No Failure</td>\n",
       "    </tr>\n",
       "    <tr>\n",
       "      <th>3</th>\n",
       "      <td>4</td>\n",
       "      <td>L47183</td>\n",
       "      <td>L</td>\n",
       "      <td>298.2</td>\n",
       "      <td>308.6</td>\n",
       "      <td>1433</td>\n",
       "      <td>39.5</td>\n",
       "      <td>7</td>\n",
       "      <td>0</td>\n",
       "      <td>No Failure</td>\n",
       "    </tr>\n",
       "    <tr>\n",
       "      <th>4</th>\n",
       "      <td>5</td>\n",
       "      <td>L47184</td>\n",
       "      <td>L</td>\n",
       "      <td>298.2</td>\n",
       "      <td>308.7</td>\n",
       "      <td>1408</td>\n",
       "      <td>40.0</td>\n",
       "      <td>9</td>\n",
       "      <td>0</td>\n",
       "      <td>No Failure</td>\n",
       "    </tr>\n",
       "  </tbody>\n",
       "</table>\n",
       "</div>"
      ],
      "text/plain": [
       "   UDI Product ID Type  Air temperature [K]  Process temperature [K]  \\\n",
       "0    1     M14860    M                298.1                    308.6   \n",
       "1    2     L47181    L                298.2                    308.7   \n",
       "2    3     L47182    L                298.1                    308.5   \n",
       "3    4     L47183    L                298.2                    308.6   \n",
       "4    5     L47184    L                298.2                    308.7   \n",
       "\n",
       "   Rotational speed [rpm]  Torque [Nm]  Tool wear [min]  Target Failure Type  \n",
       "0                    1551         42.8                0       0   No Failure  \n",
       "1                    1408         46.3                3       0   No Failure  \n",
       "2                    1498         49.4                5       0   No Failure  \n",
       "3                    1433         39.5                7       0   No Failure  \n",
       "4                    1408         40.0                9       0   No Failure  "
      ]
     },
     "execution_count": 24,
     "metadata": {},
     "output_type": "execute_result"
    }
   ],
   "source": [
    "df.head(5)"
   ]
  },
  {
   "cell_type": "code",
   "execution_count": 26,
   "id": "72027fe7-d396-44a5-b270-ca5e40625e0d",
   "metadata": {},
   "outputs": [
    {
     "name": "stdout",
     "output_type": "stream",
     "text": [
      "UDI                        0\n",
      "Product ID                 0\n",
      "Type                       0\n",
      "Air temperature [K]        0\n",
      "Process temperature [K]    0\n",
      "Rotational speed [rpm]     0\n",
      "Torque [Nm]                0\n",
      "Tool wear [min]            0\n",
      "Target                     0\n",
      "Failure Type               0\n",
      "dtype: int64\n"
     ]
    }
   ],
   "source": [
    "# Check for missing values\n",
    "print(df.isnull().sum())\n"
   ]
  },
  {
   "cell_type": "code",
   "execution_count": 28,
   "id": "f45b7071-80b3-4419-81b8-b5c3712d2917",
   "metadata": {},
   "outputs": [
    {
     "name": "stdout",
     "output_type": "stream",
     "text": [
      "UDI                          int64\n",
      "Product ID                  object\n",
      "Air temperature [K]        float64\n",
      "Process temperature [K]    float64\n",
      "Rotational speed [rpm]       int64\n",
      "Torque [Nm]                float64\n",
      "Tool wear [min]              int64\n",
      "Target                       int64\n",
      "Failure Type                 int64\n",
      "Type_L                        bool\n",
      "Type_M                        bool\n",
      "dtype: object\n"
     ]
    }
   ],
   "source": [
    "# One-hot encoding for \"Type\"\n",
    "df = pd.get_dummies(df, columns=[\"Type\"], drop_first=True)\n",
    "\n",
    "# Convert \"Failure Type\" to a binary indicator\n",
    "df[\"Failure Type\"] = df[\"Failure Type\"].apply(lambda x: 0 if x == \"No Failure\" else 1)\n",
    "\n",
    "# Display updated data types\n",
    "print(df.dtypes)\n"
   ]
  },
  {
   "cell_type": "code",
   "execution_count": 30,
   "id": "02788249-7f4f-48ba-8105-4652ababb17e",
   "metadata": {},
   "outputs": [
    {
     "name": "stdout",
     "output_type": "stream",
     "text": [
      "   Air temperature [K]  Process temperature [K]  Rotational speed [rpm]  \\\n",
      "0                298.1                    308.6                    1551   \n",
      "1                298.2                    308.7                    1408   \n",
      "2                298.1                    308.5                    1498   \n",
      "3                298.2                    308.6                    1433   \n",
      "4                298.2                    308.7                    1408   \n",
      "\n",
      "   Torque [Nm]  Tool wear [min]  Target  Failure Type  Type_L  Type_M  \n",
      "0         42.8                0       0             0   False    True  \n",
      "1         46.3                3       0             0    True   False  \n",
      "2         49.4                5       0             0    True   False  \n",
      "3         39.5                7       0             0    True   False  \n",
      "4         40.0                9       0             0    True   False  \n"
     ]
    }
   ],
   "source": [
    "# Drop unnecessary columns\n",
    "df.drop(columns=[\"UDI\", \"Product ID\"], inplace=True)\n",
    "\n",
    "# Display the updated dataset\n",
    "print(df.head())\n"
   ]
  },
  {
   "cell_type": "code",
   "execution_count": 32,
   "id": "4d393209-dafa-4550-a8e4-1b0e338b73b5",
   "metadata": {},
   "outputs": [
    {
     "name": "stdout",
     "output_type": "stream",
     "text": [
      "Target\n",
      "0    0.9661\n",
      "1    0.0339\n",
      "Name: proportion, dtype: float64\n"
     ]
    }
   ],
   "source": [
    "# Check class balance\n",
    "print(df[\"Target\"].value_counts(normalize=True))\n"
   ]
  },
  {
   "cell_type": "code",
   "execution_count": 36,
   "id": "fdac3733-3d4c-4a18-b5cc-a1147fc0a2e7",
   "metadata": {},
   "outputs": [
    {
     "name": "stdout",
     "output_type": "stream",
     "text": [
      "Collecting imbalanced-learn\n",
      "  Downloading imbalanced_learn-0.13.0-py3-none-any.whl.metadata (8.8 kB)\n",
      "Requirement already satisfied: numpy<3,>=1.24.3 in /opt/anaconda3/lib/python3.12/site-packages (from imbalanced-learn) (2.2.2)\n",
      "Requirement already satisfied: scipy<2,>=1.10.1 in /opt/anaconda3/lib/python3.12/site-packages (from imbalanced-learn) (1.15.1)\n",
      "Requirement already satisfied: scikit-learn<2,>=1.3.2 in /opt/anaconda3/lib/python3.12/site-packages (from imbalanced-learn) (1.6.1)\n",
      "Collecting sklearn-compat<1,>=0.1 (from imbalanced-learn)\n",
      "  Downloading sklearn_compat-0.1.3-py3-none-any.whl.metadata (18 kB)\n",
      "Requirement already satisfied: joblib<2,>=1.1.1 in /opt/anaconda3/lib/python3.12/site-packages (from imbalanced-learn) (1.4.2)\n",
      "Requirement already satisfied: threadpoolctl<4,>=2.0.0 in /opt/anaconda3/lib/python3.12/site-packages (from imbalanced-learn) (3.5.0)\n",
      "Downloading imbalanced_learn-0.13.0-py3-none-any.whl (238 kB)\n",
      "Downloading sklearn_compat-0.1.3-py3-none-any.whl (18 kB)\n",
      "Installing collected packages: sklearn-compat, imbalanced-learn\n",
      "Successfully installed imbalanced-learn-0.13.0 sklearn-compat-0.1.3\n"
     ]
    }
   ],
   "source": [
    "!pip install imbalanced-learn"
   ]
  },
  {
   "cell_type": "code",
   "execution_count": 38,
   "id": "8fce174a-f585-4465-803d-c9a8b8519a4f",
   "metadata": {},
   "outputs": [
    {
     "name": "stdout",
     "output_type": "stream",
     "text": [
      "Target\n",
      "0    0.66669\n",
      "1    0.33331\n",
      "Name: proportion, dtype: float64\n"
     ]
    }
   ],
   "source": [
    "from imblearn.over_sampling import SMOTE\n",
    "\n",
    "# Separate features and target\n",
    "X = df.drop(columns=[\"Target\"])\n",
    "y = df[\"Target\"]\n",
    "\n",
    "# Apply SMOTE\n",
    "smote = SMOTE(sampling_strategy=0.5, random_state=42)  # Increase failure cases to 50% of non-failures\n",
    "X_resampled, y_resampled = smote.fit_resample(X, y)\n",
    "\n",
    "# Print new class distribution\n",
    "print(y_resampled.value_counts(normalize=True))\n"
   ]
  },
  {
   "cell_type": "code",
   "execution_count": 40,
   "id": "bf870e0d-9451-4745-8328-168515c685ac",
   "metadata": {},
   "outputs": [
    {
     "name": "stdout",
     "output_type": "stream",
     "text": [
      "   Air temperature [K]  Process temperature [K]  Rotational speed [rpm]  \\\n",
      "0            -1.113576                -1.089693                0.112926   \n",
      "1            -1.063022                -1.017493               -0.445754   \n",
      "2            -1.113576                -1.161893               -0.094137   \n",
      "3            -1.063022                -1.089693               -0.348082   \n",
      "4            -1.063022                -1.017493               -0.445754   \n",
      "\n",
      "   Torque [Nm]  Tool wear [min]  Failure Type    Type_L    Type_M  \n",
      "0    -0.034312        -1.748138     -0.688158 -1.496791  1.414067  \n",
      "1     0.236293        -1.704069     -0.688158  0.668096 -0.707180  \n",
      "2     0.475972        -1.674690     -0.688158  0.668096 -0.707180  \n",
      "3    -0.289454        -1.645311     -0.688158  0.668096 -0.707180  \n",
      "4    -0.250796        -1.615932     -0.688158  0.668096 -0.707180  \n"
     ]
    }
   ],
   "source": [
    "from sklearn.preprocessing import StandardScaler\n",
    "\n",
    "# Initialize scaler\n",
    "scaler = StandardScaler()\n",
    "\n",
    "# Apply scaling to features\n",
    "X_scaled = scaler.fit_transform(X_resampled)\n",
    "\n",
    "# Convert back to DataFrame\n",
    "X_scaled = pd.DataFrame(X_scaled, columns=X.columns)\n",
    "\n",
    "# Display first few rows\n",
    "print(X_scaled.head())\n"
   ]
  },
  {
   "cell_type": "code",
   "execution_count": 42,
   "id": "a24ca4a9-53a9-47cf-ae99-44a3e28e356f",
   "metadata": {},
   "outputs": [
    {
     "name": "stdout",
     "output_type": "stream",
     "text": [
      "Training set size: (11592, 8)\n",
      "Test set size: (2899, 8)\n"
     ]
    }
   ],
   "source": [
    "from sklearn.model_selection import train_test_split\n",
    "\n",
    "# Split data (80% train, 20% test)\n",
    "X_train, X_test, y_train, y_test = train_test_split(X_scaled, y_resampled, test_size=0.2, random_state=42, stratify=y_resampled)\n",
    "\n",
    "# Print the shape of train and test sets\n",
    "print(\"Training set size:\", X_train.shape)\n",
    "print(\"Test set size:\", X_test.shape)"
   ]
  },
  {
   "cell_type": "code",
   "execution_count": 44,
   "id": "3de98a21-bc4d-46cc-b5f1-8547e2ef96e5",
   "metadata": {},
   "outputs": [
    {
     "name": "stdout",
     "output_type": "stream",
     "text": [
      "Accuracy: 0.9951707485339772\n",
      "\n",
      "Classification Report:\n",
      "               precision    recall  f1-score   support\n",
      "\n",
      "           0       1.00      1.00      1.00      1933\n",
      "           1       0.99      0.99      0.99       966\n",
      "\n",
      "    accuracy                           1.00      2899\n",
      "   macro avg       1.00      0.99      0.99      2899\n",
      "weighted avg       1.00      1.00      1.00      2899\n",
      "\n"
     ]
    }
   ],
   "source": [
    "from sklearn.ensemble import RandomForestClassifier\n",
    "from sklearn.metrics import classification_report, accuracy_score\n",
    "\n",
    "# Initialize the model\n",
    "rf_model = RandomForestClassifier(n_estimators=100, random_state=42)\n",
    "\n",
    "# Train the model\n",
    "rf_model.fit(X_train, y_train)\n",
    "\n",
    "# Make predictions\n",
    "y_pred = rf_model.predict(X_test)\n",
    "\n",
    "# Evaluate the model\n",
    "print(\"Accuracy:\", accuracy_score(y_test, y_pred))\n",
    "print(\"\\nClassification Report:\\n\", classification_report(y_test, y_pred))\n"
   ]
  },
  {
   "cell_type": "code",
   "execution_count": 46,
   "id": "66740717-9c72-4c7c-95e3-fd61d37f9842",
   "metadata": {},
   "outputs": [
    {
     "data": {
      "image/png": "[encoded data removed]",
      "text/plain": [
       "<Figure size 1000x500 with 1 Axes>"
      ]
     },
     "metadata": {},
     "output_type": "display_data"
    }
   ],
   "source": [
    "import matplotlib.pyplot as plt\n",
    "import numpy as np\n",
    "\n",
    "# Get feature importances\n",
    "importances = rf_model.feature_importances_\n",
    "feature_names = X_train.columns\n",
    "\n",
    "# Sort in descending order\n",
    "indices = np.argsort(importances)[::-1]\n",
    "\n",
    "# Plot feature importances\n",
    "plt.figure(figsize=(10, 5))\n",
    "plt.title(\"Feature Importance\")\n",
    "plt.bar(range(X_train.shape[1]), importances[indices], align=\"center\")\n",
    "plt.xticks(range(X_train.shape[1]), [feature_names[i] for i in indices], rotation=45)\n",
    "plt.xlabel(\"Features\")\n",
    "plt.ylabel(\"Importance Score\")\n",
    "plt.show()"
   ]
  },
  {
   "cell_type": "code",
   "execution_count": 48,
   "id": "09918de2-9e46-4c54-afd5-0919e6522b7e",
   "metadata": {},
   "outputs": [
    {
     "name": "stdout",
     "output_type": "stream",
     "text": [
      "   Air temperature [K]  Process temperature [K]  Rotational speed [rpm]  \\\n",
      "0            291.43788               316.630572                    1792   \n",
      "\n",
      "   Torque [Nm]  Tool wear [min]  Failure Type  Type_L  Type_M  \n",
      "0    54.880647               24             1    True   False  \n"
     ]
    }
   ],
   "source": [
    "import random\n",
    "import pandas as pd\n",
    "\n",
    "# Generate simulated IoT sensor data\n",
    "def generate_live_data():\n",
    "    return {\n",
    "        \"Air temperature [K]\": random.uniform(290, 310),\n",
    "        \"Process temperature [K]\": random.uniform(300, 320),\n",
    "        \"Rotational speed [rpm]\": random.randint(1200, 3000),\n",
    "        \"Torque [Nm]\": random.uniform(30, 70),\n",
    "        \"Tool wear [min]\": random.randint(0, 250),\n",
    "        \"Failure Type\": random.randint(0, 1),\n",
    "        \"Type_L\": random.choice([True, False]),\n",
    "        \"Type_M\": random.choice([True, False])\n",
    "    }\n",
    "\n",
    "# Convert to DataFrame\n",
    "live_data = pd.DataFrame([generate_live_data()])\n",
    "print(live_data)\n"
   ]
  },
  {
   "cell_type": "code",
   "execution_count": 50,
   "id": "d3323165-5555-44cd-8dff-58d06cf1ed8a",
   "metadata": {},
   "outputs": [
    {
     "name": "stdout",
     "output_type": "stream",
     "text": [
      "   Air temperature [K]  Process temperature [K]  Rotational speed [rpm]  \\\n",
      "0            -4.481565                 4.708365                1.054476   \n",
      "\n",
      "   Torque [Nm]  Tool wear [min]  Failure Type    Type_L   Type_M  \n",
      "0     0.899712        -1.395589      1.453155  0.668096 -0.70718  \n"
     ]
    }
   ],
   "source": [
    "live_data_scaled = scaler.transform(live_data)\n",
    "live_data_scaled = pd.DataFrame(live_data_scaled, columns=live_data.columns)\n",
    "\n",
    "print(live_data_scaled)\n"
   ]
  },
  {
   "cell_type": "code",
   "execution_count": 52,
   "id": "43c9355f-fab3-4aba-bf76-d21ee6acefaf",
   "metadata": {},
   "outputs": [
    {
     "name": "stdout",
     "output_type": "stream",
     "text": [
      "⚠️ Anomaly Detected: Potential Equipment Failure!\n"
     ]
    }
   ],
   "source": [
    "# Predict failure\n",
    "prediction = rf_model.predict(live_data_scaled)\n",
    "\n",
    "if prediction[0] == 1:\n",
    "    print(\"⚠️ Anomaly Detected: Potential Equipment Failure!\")\n",
    "else:\n",
    "    print(\"✅ No Issues Detected.\")\n"
   ]
  },
  {
   "cell_type": "code",
   "execution_count": null,
   "id": "fde571ac-675f-4563-a0d8-3d81bfcf2690",
   "metadata": {},
   "outputs": [],
   "source": []
  }
 ],
 "metadata": {
  "kernelspec": {
   "display_name": "Python [conda env:base] *",
   "language": "python",
   "name": "conda-base-py"
  },
  "language_info": {
   "codemirror_mode": {
    "name": "ipython",
    "version": 3
   },
   "file_extension": ".py",
   "mimetype": "text/x-python",
   "name": "python",
   "nbconvert_exporter": "python",
   "pygments_lexer": "ipython3",
   "version": "3.12.7"
  }
 },
 "nbformat": 4,
 "nbformat_minor": 5
}
